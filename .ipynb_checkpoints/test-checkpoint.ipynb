{
 "cells": [
  {
   "cell_type": "code",
   "execution_count": 1,
   "id": "5eb512b9-14b5-4340-bb8f-7e94847938e9",
   "metadata": {},
   "outputs": [],
   "source": [
    "from sourceextractor import Centroid\n",
    "kwargs = {'fig_out':'centroid.png'}\n",
    "#imagefile_mid = 'obs/fits/spacebased/optical_radar/5_10/T1616_S1_1_C6_1/img_00000.fits'\n",
    "imagefile_mid = 'obs/bmp/spacebased/optical_radar/5_10/T1616_S1_1_C6_1/img_00000.bmp'\n",
    "centroids = Centroid.find_centroid(imagefile_mid,max_control_points=150,fwhm=15,**kwargs)"
   ]
  },
  {
   "cell_type": "code",
   "execution_count": null,
   "id": "58dd3713-4c37-48b3-a9a0-dfd4c22c8c07",
   "metadata": {},
   "outputs": [],
   "source": [
    "centroids."
   ]
  },
  {
   "cell_type": "code",
   "execution_count": null,
   "id": "fdfdb72c-9e84-424a-9637-216233cead84",
   "metadata": {},
   "outputs": [],
   "source": [
    "import numpy as np\n",
    "from photutils.datasets import load_star_image\n",
    "hdu = load_star_image()  \n",
    "image = hdu.data[500:700, 500:700].astype(float)  "
   ]
  },
  {
   "cell_type": "code",
   "execution_count": null,
   "id": "553e6ba3-db26-40f2-9f18-43a77a1f459c",
   "metadata": {},
   "outputs": [],
   "source": [
    "image1 = image - np.median(image) "
   ]
  },
  {
   "cell_type": "code",
   "execution_count": null,
   "id": "740f9171-2111-496c-bed7-41efb599838b",
   "metadata": {},
   "outputs": [],
   "source": [
    "from photutils.detection import DAOStarFinder\n",
    "from astropy.stats import mad_std\n",
    "bkg_sigma = mad_std(image1)  \n",
    "daofind = DAOStarFinder(fwhm=4.0, threshold=3.0 * bkg_sigma)  \n",
    "sources = daofind(image1)  \n",
    "for col in sources.colnames:  \n",
    "    sources[col].info.format = '%.8g'  # for consistent table output\n",
    "print(sources)"
   ]
  },
  {
   "cell_type": "code",
   "execution_count": null,
   "id": "8b8b6fd3-10b2-4f50-9c80-05b83280d090",
   "metadata": {},
   "outputs": [],
   "source": [
    "18121.759/29836.515"
   ]
  },
  {
   "cell_type": "code",
   "execution_count": null,
   "id": "be5ff923-931f-4e7b-8958-7e0cee8e0b91",
   "metadata": {},
   "outputs": [],
   "source": [
    "from photutils.aperture import aperture_photometry, CircularAperture\n",
    "positions = np.transpose((sources['xcentroid'], sources['ycentroid']))  \n",
    "apertures = CircularAperture(positions, r=4.0)  \n",
    "phot_table1 = aperture_photometry(image1, apertures)  \n",
    "for col in phot_table1.colnames:  \n",
    "    phot_table1[col].info.format = '%.8g'  # for consistent table output\n",
    "print(phot_table1) "
   ]
  },
  {
   "cell_type": "code",
   "execution_count": null,
   "id": "e7b584c3-ef7b-4564-941b-478bd1aa0979",
   "metadata": {},
   "outputs": [],
   "source": [
    "13362.072/21557.84"
   ]
  },
  {
   "cell_type": "code",
   "execution_count": null,
   "id": "67cedd18-c3b3-4bf1-84ba-2f513fcc8049",
   "metadata": {},
   "outputs": [],
   "source": [
    "from photutils.aperture import aperture_photometry, CircularAperture\n",
    "positions = np.transpose((sources['xcentroid'], sources['ycentroid']))  \n",
    "apertures = CircularAperture(positions, r=2.0)  \n",
    "phot_table1 = aperture_photometry(image1, apertures)  \n",
    "for col in phot_table1.colnames:  \n",
    "    phot_table1[col].info.format = '%.8g'  # for consistent table output\n",
    "print(phot_table1) "
   ]
  },
  {
   "cell_type": "code",
   "execution_count": null,
   "id": "25337331-f0f9-4610-9deb-2342f707eb05",
   "metadata": {},
   "outputs": [],
   "source": [
    "import matplotlib.pyplot as plt\n",
    "plt.imshow(image1, cmap='gray_r', origin='lower')\n",
    "apertures.plot(color='blue', lw=1.5, alpha=0.5)"
   ]
  },
  {
   "cell_type": "code",
   "execution_count": null,
   "id": "558306d9-eca9-41cf-886d-e3af934cb4d2",
   "metadata": {},
   "outputs": [],
   "source": [
    "sources['flux'].min()"
   ]
  },
  {
   "cell_type": "code",
   "execution_count": null,
   "id": "c6daade7-6770-4435-a608-9a59010ab6c7",
   "metadata": {},
   "outputs": [],
   "source": [
    "sources['flux'].max()"
   ]
  },
  {
   "cell_type": "code",
   "execution_count": null,
   "id": "595c41cd-af65-4e58-abb6-cc14101ae3cb",
   "metadata": {},
   "outputs": [],
   "source": [
    "from photutils.detection import DAOStarFinder\n",
    "from astropy.stats import mad_std\n",
    "bkg_sigma = mad_std(image)  \n",
    "daofind = DAOStarFinder(fwhm=4.0, threshold=3.0 * bkg_sigma)  \n",
    "sources = daofind(image)  \n",
    "for col in sources.colnames:  \n",
    "    sources[col].info.format = '%.8g'  # for consistent table output\n",
    "print(sources)"
   ]
  },
  {
   "cell_type": "code",
   "execution_count": null,
   "id": "52322fe5-ef80-43c7-a6d5-3b4abdbecd21",
   "metadata": {},
   "outputs": [],
   "source": [
    "from photutils.aperture import aperture_photometry, CircularAperture\n",
    "positions = np.transpose((sources['xcentroid'], sources['ycentroid']))  \n",
    "apertures = CircularAperture(positions, r=4.0)  \n",
    "phot_table = aperture_photometry(image, apertures)  \n",
    "for col in phot_table.colnames:  \n",
    "    phot_table[col].info.format = '%.8g'  # for consistent table output\n",
    "print(phot_table) "
   ]
  },
  {
   "cell_type": "code",
   "execution_count": null,
   "id": "92de94c6-4bab-4ee3-b055-fae6491c6934",
   "metadata": {},
   "outputs": [],
   "source": [
    "import matplotlib.pyplot as plt\n",
    "plt.imshow(image, cmap='gray_r', origin='lower')\n",
    "apertures.plot(color='blue', lw=1.5, alpha=0.5) "
   ]
  },
  {
   "cell_type": "code",
   "execution_count": null,
   "id": "27733599-9749-446e-971f-99550e9eb508",
   "metadata": {},
   "outputs": [],
   "source": [
    "488465.33/347812.27"
   ]
  },
  {
   "cell_type": "code",
   "execution_count": null,
   "id": "9f955fec-e826-4190-b248-1c115067f8cb",
   "metadata": {},
   "outputs": [],
   "source": [
    "phot_table"
   ]
  },
  {
   "cell_type": "code",
   "execution_count": null,
   "id": "e4fcff08-3f6e-4167-af0f-5fac61e6a149",
   "metadata": {},
   "outputs": [],
   "source": [
    "304490.3499169407/184117.03328437332"
   ]
  },
  {
   "cell_type": "code",
   "execution_count": null,
   "id": "2138c35f-2060-46b5-abb5-bad86a874c71",
   "metadata": {},
   "outputs": [],
   "source": [
    "phot_table1"
   ]
  },
  {
   "cell_type": "code",
   "execution_count": null,
   "id": "a6dd9958-4833-48fa-b8a3-2a0719f9527d",
   "metadata": {},
   "outputs": [],
   "source": [
    "import numpy as np"
   ]
  },
  {
   "cell_type": "code",
   "execution_count": null,
   "id": "e9651ef1-ee97-419c-8348-fc4afcfd52ae",
   "metadata": {},
   "outputs": [],
   "source": [
    "np.sqrt(np.log(2))"
   ]
  },
  {
   "cell_type": "code",
   "execution_count": null,
   "id": "dbe38b67-e32f-4a03-977b-c6e81f4940a1",
   "metadata": {},
   "outputs": [],
   "source": [
    "1024/64"
   ]
  },
  {
   "cell_type": "code",
   "execution_count": null,
   "id": "8dd4cbea-db4b-47e2-aa8c-5ab64060295f",
   "metadata": {},
   "outputs": [],
   "source": []
  }
 ],
 "metadata": {
  "kernelspec": {
   "display_name": "Python 3 (ipykernel)",
   "language": "python",
   "name": "python3"
  },
  "language_info": {
   "codemirror_mode": {
    "name": "ipython",
    "version": 3
   },
   "file_extension": ".py",
   "mimetype": "text/x-python",
   "name": "python",
   "nbconvert_exporter": "python",
   "pygments_lexer": "ipython3",
   "version": "3.9.16"
  }
 },
 "nbformat": 4,
 "nbformat_minor": 5
}
